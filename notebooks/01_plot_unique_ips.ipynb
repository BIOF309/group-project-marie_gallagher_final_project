{
 "cells": [
  {
   "cell_type": "markdown",
   "metadata": {},
   "source": [
    "# Quickly Detecting Anomalies in Web site traffic\n",
    "\n",
    "---\n",
    "\n",
    "***Final Project, FAES BIOF 309 Introduction to Python, Fall 2018***\n",
    "\n",
    "**Marie Gallagher, mgallagher@mail.nih.gov**\n",
    "\n",
    "## Overview\n",
    "\n",
    "The purpose of this project is to provide a faster way to visualize\n",
    "data than (repeatedly) importing data into Excel and creating a \n",
    "chart.  This will save me time!"
   ]
  },
  {
   "cell_type": "markdown",
   "metadata": {},
   "source": [
    "## Background\n",
    "\n",
    "One of my work tasks is to provide statistics about Web site use.\n",
    "Over the years, my institute has mandated various Web analytics software\n",
    "including: awstats, WebTrends and Google Analytics.\n",
    "\n",
    "Each piece of software analyzes and displays results differently.\n",
    "So switching to different Web analytics software usually creates the \n",
    "appearance of a massive increase or decrease in traffic.\n",
    "\n",
    "I need a way to tell whether there has been a legitimate unexpected\n",
    "change in Web site traffic.  Unique IP addresses per day turns out \n",
    "to be a reasonably reliable indicator.\n",
    "\n",
    "Anomalies can also happen if the Web site is the subject of a denail\n",
    "of service attack or if an event of national or international interest \n",
    "is related to content on the Web site.  Having a way to quickly visualize \n",
    "the number of unique IP addresses daily over time will help me quickly \n",
    "spot anomalies."
   ]
  },
  {
   "cell_type": "markdown",
   "metadata": {},
   "source": [
    "## Demo\n",
    "\n",
    "My data for this project contains the number of unique IP addresses \n",
    "accessing a Web site each day.  A few lines of data follows:\n",
    "```\n",
    "06/01/2018|5565|515120|515120|515120\n",
    "06/02/2018|4801|518657|518657|518657\n",
    "06/03/2018|4069|451881|451881|451881\n",
    "06/04/2018|4859|493762|493762|493762\n",
    "06/05/2018|4816|514587|514587|514587\n",
    "```\n",
    "\n",
    "- We are interested in the first two columns.  We want to ignore the rest of the columns.\n",
    "\n",
    "- The first column contains dates, but they are in the form MM/DD/YYYY rather than YYYY-MM-DD.\n",
    "\n",
    "- There are no column headers in this data.\n",
    "\n",
    "- The columns are separated by the \"pipe\" character rather than commas, spaces or tabs."
   ]
  },
  {
   "cell_type": "code",
   "execution_count": null,
   "metadata": {},
   "outputs": [],
   "source": [
    "# Import the necessary packages\n",
    "import os\n",
    "import pandas as pd\n",
    "import matplotlib.pyplot as plt\n",
    "from datetime import datetime"
   ]
  },
  {
   "cell_type": "code",
   "execution_count": null,
   "metadata": {},
   "outputs": [],
   "source": [
    "# Optional: display the names of the files in the raw data directory.\n",
    "print(os.listdir(\"../data/raw/\"))"
   ]
  },
  {
   "cell_type": "code",
   "execution_count": null,
   "metadata": {},
   "outputs": [],
   "source": [
    "# Choose a data file to plot.\n",
    "daily_ip_file = \"../data/raw/log_daily_ip_201806a.txt\""
   ]
  },
  {
   "cell_type": "code",
   "execution_count": null,
   "metadata": {},
   "outputs": [],
   "source": [
    "# Optional:  display the first few lines of the daily_ip_file.\n",
    "with open(daily_ip_file) as file:\n",
    "    line_num = 1\n",
    "    while line_num <= 5:\n",
    "        print(file.readline())\n",
    "        line_num = line_num + 1\n",
    "file.close()"
   ]
  },
  {
   "cell_type": "code",
   "execution_count": null,
   "metadata": {},
   "outputs": [],
   "source": [
    "# Read a data file into a pandas dataframe, df.\n",
    "# The columns separator is '|'.\n",
    "# There is no header row.\n",
    "# We only need the first two columns.\n",
    "df = pd.read_csv(daily_ip_file, sep=\"|\", header=None, usecols=[0,1])"
   ]
  },
  {
   "cell_type": "code",
   "execution_count": null,
   "metadata": {},
   "outputs": [],
   "source": [
    "# Optional: display the first few rows.  There should now be only two columns, not five.\n",
    "print(df.head(5))"
   ]
  },
  {
   "cell_type": "code",
   "execution_count": null,
   "metadata": {},
   "outputs": [],
   "source": [
    "# Give the dataframe's columns descriptive names.\n",
    "df.columns = [\"date1\", \"unique_ips\"]"
   ]
  },
  {
   "cell_type": "code",
   "execution_count": null,
   "metadata": {},
   "outputs": [],
   "source": [
    "# Optional: make sure the column names changed.\n",
    "print(df.head(5))"
   ]
  },
  {
   "cell_type": "code",
   "execution_count": null,
   "metadata": {},
   "outputs": [],
   "source": [
    "# Optional: what is are the types of the columns in df?\n",
    "print(type(df))\n",
    "print(type(df))"
   ]
  },
  {
   "cell_type": "code",
   "execution_count": null,
   "metadata": {},
   "outputs": [],
   "source": [
    "# Change from a text MM/DD/YYYY date to a Python friendly datetime YYYY-MM-DD.\n",
    "dates_datetime = [datetime.strptime(date_text, \"%m/%d/%Y\") for date_text in df.date1]"
   ]
  },
  {
   "cell_type": "markdown",
   "metadata": {},
   "source": [
    "## Future\n",
    "\n",
    "1. I will incorporate this project into my work immediately.  (Until now, I imported the data into Excel and made a graph.)\n",
    "\n",
    "2. Break my program into functions and restructure my project files\n",
    "\n",
    "3. Scrub IP addresses from raw log files and extract data from them\n",
    "\n",
    "4. List the most accessed URLs on days with high IP address counts\n",
    "\n",
    "5. List the top referrers on days with high IP address counts"
   ]
  },
  {
   "cell_type": "markdown",
   "metadata": {},
   "source": [
    "## Acknowledgments and Thanks!\n",
    "\n",
    "BIOF 309 Instructors\n",
    "* Martin Skarzynski\n",
    "* Jinping Liu\n",
    "* Michael Chambers\n",
    "\n",
    "BIOF 309 Class\n",
    "* Helpful questions\n",
    "\n",
    "NIAID Scientific Programming Seminars through CIT\n",
    "* Burke Squires"
   ]
  },
  {
   "cell_type": "code",
   "execution_count": null,
   "metadata": {},
   "outputs": [],
   "source": []
  }
 ],
 "metadata": {
  "kernelspec": {
   "display_name": "Python 3",
   "language": "python",
   "name": "python3"
  },
  "language_info": {
   "codemirror_mode": {
    "name": "ipython",
    "version": 3
   },
   "file_extension": ".py",
   "mimetype": "text/x-python",
   "name": "python",
   "nbconvert_exporter": "python",
   "pygments_lexer": "ipython3",
   "version": "3.6.5"
  }
 },
 "nbformat": 4,
 "nbformat_minor": 2
}
